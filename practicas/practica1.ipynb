{
  "cells": [
    {
      "cell_type": "markdown",
      "metadata": {
        "id": "view-in-github",
        "colab_type": "text"
      },
      "source": [
        "<a href=\"https://colab.research.google.com/github/Julioore/Julioore/blob/main/practicas/practica1.ipynb\" target=\"_parent\"><img src=\"https://colab.research.google.com/assets/colab-badge.svg\" alt=\"Open In Colab\"/></a>"
      ]
    },
    {
      "cell_type": "markdown",
      "id": "8d9dc823",
      "metadata": {
        "id": "8d9dc823"
      },
      "source": [
        "# Práctica 1\n",
        "* Puede resolver aquí los ejercicios abriendo una celda después de cada uno de los enunciados.  \n",
        "* Por favor, documente la solución de los ejercicios añadiendo suficientes **comentarios** del programador que expliquen el código."
      ]
    },
    {
      "cell_type": "markdown",
      "id": "be4f1980",
      "metadata": {
        "id": "be4f1980"
      },
      "source": [
        "## Ejercicio 1.1. Elevar al cuadrado\n",
        "* Imprimir en pantalla el cuadrado de todos los números del 1 al 100, ambos incluidos.\n",
        "* Mostrarlos en forma de columnas. Algo parecido a:\n",
        " - 1 → 1\n",
        " - 2 → 4\n",
        " - 3 → 9\n",
        " - 4 → 16\n",
        " - 5 → 25\n",
        " - ... ... ...\n",
        " - 100 → 10,000"
      ]
    },
    {
      "cell_type": "code",
      "source": [
        "for i in range(1,101):\n",
        "  print(f\"{i:3d} → {i**2:6d}\")\n"
      ],
      "metadata": {
        "id": "IYKlHC-WVZKA",
        "outputId": "a477de1b-6889-47db-d33d-bd79f1bac9d6",
        "colab": {
          "base_uri": "https://localhost:8080/"
        }
      },
      "id": "IYKlHC-WVZKA",
      "execution_count": null,
      "outputs": [
        {
          "output_type": "stream",
          "name": "stdout",
          "text": [
            "  1 →      1\n",
            "  2 →      4\n",
            "  3 →      9\n",
            "  4 →     16\n",
            "  5 →     25\n",
            "  6 →     36\n",
            "  7 →     49\n",
            "  8 →     64\n",
            "  9 →     81\n",
            " 10 →    100\n",
            " 11 →    121\n",
            " 12 →    144\n",
            " 13 →    169\n",
            " 14 →    196\n",
            " 15 →    225\n",
            " 16 →    256\n",
            " 17 →    289\n",
            " 18 →    324\n",
            " 19 →    361\n",
            " 20 →    400\n",
            " 21 →    441\n",
            " 22 →    484\n",
            " 23 →    529\n",
            " 24 →    576\n",
            " 25 →    625\n",
            " 26 →    676\n",
            " 27 →    729\n",
            " 28 →    784\n",
            " 29 →    841\n",
            " 30 →    900\n",
            " 31 →    961\n",
            " 32 →   1024\n",
            " 33 →   1089\n",
            " 34 →   1156\n",
            " 35 →   1225\n",
            " 36 →   1296\n",
            " 37 →   1369\n",
            " 38 →   1444\n",
            " 39 →   1521\n",
            " 40 →   1600\n",
            " 41 →   1681\n",
            " 42 →   1764\n",
            " 43 →   1849\n",
            " 44 →   1936\n",
            " 45 →   2025\n",
            " 46 →   2116\n",
            " 47 →   2209\n",
            " 48 →   2304\n",
            " 49 →   2401\n",
            " 50 →   2500\n",
            " 51 →   2601\n",
            " 52 →   2704\n",
            " 53 →   2809\n",
            " 54 →   2916\n",
            " 55 →   3025\n",
            " 56 →   3136\n",
            " 57 →   3249\n",
            " 58 →   3364\n",
            " 59 →   3481\n",
            " 60 →   3600\n",
            " 61 →   3721\n",
            " 62 →   3844\n",
            " 63 →   3969\n",
            " 64 →   4096\n",
            " 65 →   4225\n",
            " 66 →   4356\n",
            " 67 →   4489\n",
            " 68 →   4624\n",
            " 69 →   4761\n",
            " 70 →   4900\n",
            " 71 →   5041\n",
            " 72 →   5184\n",
            " 73 →   5329\n",
            " 74 →   5476\n",
            " 75 →   5625\n",
            " 76 →   5776\n",
            " 77 →   5929\n",
            " 78 →   6084\n",
            " 79 →   6241\n",
            " 80 →   6400\n",
            " 81 →   6561\n",
            " 82 →   6724\n",
            " 83 →   6889\n",
            " 84 →   7056\n",
            " 85 →   7225\n",
            " 86 →   7396\n",
            " 87 →   7569\n",
            " 88 →   7744\n",
            " 89 →   7921\n",
            " 90 →   8100\n",
            " 91 →   8281\n",
            " 92 →   8464\n",
            " 93 →   8649\n",
            " 94 →   8836\n",
            " 95 →   9025\n",
            " 96 →   9216\n",
            " 97 →   9409\n",
            " 98 →   9604\n",
            " 99 →   9801\n",
            "100 →  10000\n"
          ]
        }
      ]
    },
    {
      "cell_type": "markdown",
      "id": "54892e96",
      "metadata": {
        "id": "54892e96"
      },
      "source": [
        "## Ejercicio 1.2. Listar números pares\n",
        "* Pedir al usuario dos números enteros, que pueden ser positivos o negativos.\n",
        "* Comprobar que el primer número introducido es menor que el segundo\n",
        "* Mostrar en pantalla todos los números pares comprendidos entre ellos\n",
        "* El cero se considera par"
      ]
    },
    {
      "cell_type": "code",
      "source": [
        "a=int(input(\"Indique el primer número entero: \"))\n",
        "b=int(input(\"Indique el segundo número entero: \"))\n",
        "if a<b:\n",
        "  print([i for i in range(a,b) if i%2==0])\n",
        "else:\n",
        "  print(\"El primer número tiene que ser menor que el segundo\")\n"
      ],
      "metadata": {
        "id": "bQgE6OlZWZYI",
        "outputId": "e9fd3944-4604-4d44-a1a9-403d3ab38f64",
        "colab": {
          "base_uri": "https://localhost:8080/"
        }
      },
      "id": "bQgE6OlZWZYI",
      "execution_count": 1,
      "outputs": [
        {
          "output_type": "stream",
          "name": "stdout",
          "text": [
            "Indique el primer número entero: -4\n",
            "Indique el segundo número entero: 8\n",
            "[-4, -2, 0, 2, 4, 6]\n"
          ]
        }
      ]
    },
    {
      "cell_type": "markdown",
      "source": [
        "## Ejercicio 1.3. Comparar varias parejas de números\n",
        "* Pedir al usuario dos números y decir cuál es:\n",
        " - el mayor\n",
        " - el menor\n",
        " - o si son iguales.\n",
        "* Seguir pidiendo números hasta que se introduzca algún valor:\n",
        " - negativo o \n",
        " - que no sea numérico\n",
        "* Los números solicitados podrán ser números con decimales."
      ],
      "metadata": {
        "id": "XbpVLZVjqvtK"
      },
      "id": "XbpVLZVjqvtK"
    },
    {
      "cell_type": "code",
      "source": [
        "while True:\n",
        "  str1=input(\"Indique el primer número: \")\n",
        "  str2=input(\"Indique el segundo número: \")\n",
        "  try:\n",
        "    a=float(str1)\n",
        "    b=float(str2)\n",
        "    if a<0 or b<0:\n",
        "      print(\"Se ha introducido un valor negativo.\\nFin del programa.\")\n",
        "      break\n",
        "    else:\n",
        "      if a>b:\n",
        "        print(f\"El mayor es {a} y el menor es {b}.\")\n",
        "      elif b>a:\n",
        "        print(f\"El mayor es {b} y el menor es {a}.\")\n",
        "      else:\n",
        "        print(\"Son iguales.\")\n",
        "  except ValueError:\n",
        "    print(\"Se ha introducido un carácter no válido.\\nFin del programa.\")\n",
        "    break\n"
      ],
      "metadata": {
        "id": "O0oHN2FQWiEA",
        "outputId": "24494626-f1fd-4f2e-ea2f-56933d84f9f1",
        "colab": {
          "base_uri": "https://localhost:8080/"
        }
      },
      "id": "O0oHN2FQWiEA",
      "execution_count": 2,
      "outputs": [
        {
          "output_type": "stream",
          "name": "stdout",
          "text": [
            "Indique el primer número: 1\n",
            "Indique el segundo número: 16\n",
            "El mayor es 16.0 y el menor es 1.0.\n",
            "Indique el primer número: 15\n",
            "Indique el segundo número: 18\n",
            "El mayor es 18.0 y el menor es 15.0.\n",
            "Indique el primer número: #\n",
            "Indique el segundo número: 22\n",
            "Se ha introducido un carácter no válido.\n",
            "Fin del programa.\n"
          ]
        }
      ]
    },
    {
      "cell_type": "markdown",
      "id": "8c57fbec",
      "metadata": {
        "id": "8c57fbec"
      },
      "source": [
        "## Ejercicio 1.4. Media de una serie de números\n",
        "* Solicitar al usuario que introduzca reiteradamente números no negativos. Formar una lista con esos números.\n",
        "* Se interrumpe la petición de números cuando el usuario introduzca un número negativo. El número negativo no se incorporará a la lista de números captados.\n",
        "* Mostrar en pantalla la lista de números no negativos introducidos.\n",
        "* Mostrar en pantalla la suma y la media de los números de la lista.\n",
        "* Indicar cuántos valores de la lista son superiores a la media.\n",
        "* *Nota:* \n",
        "Los números \"no negativos\" son números positivos o cero, que pueden ser enteros o con decimales."
      ]
    },
    {
      "cell_type": "code",
      "source": [
        "numeros=[]\n",
        "print(\"Para salir introduzca un número negativo.\")\n",
        "while True:\n",
        "  n=float(input(\"Introduzca un número: \"))\n",
        "  if n<0:\n",
        "    print(\"Se ha introducido un número negativo.\\nLista completada.\")\n",
        "    break\n",
        "  numeros.append(n)\n",
        "print(numeros)\n",
        "print(\"La suma de los números de la lista es: \",sum(numeros))\n",
        "try:\n",
        "  print(\"La media de los números de la lista es: \",sum(numeros)/len(numeros))\n",
        "except ZeroDivisionError:\n",
        "  print(\"No se ha introducido ningún valor válido.\")\n",
        "count=0\n",
        "for i in numeros:\n",
        "  if i>sum(numeros)/len(numeros):\n",
        "    count+=1\n",
        "print(\"El número de valores superiores a la media es:\", count)\n",
        "\n"
      ],
      "metadata": {
        "id": "6H3ZB4NLFCc-",
        "outputId": "e632bfcb-d402-4d30-d295-a4f33990d3f9",
        "colab": {
          "base_uri": "https://localhost:8080/"
        }
      },
      "id": "6H3ZB4NLFCc-",
      "execution_count": null,
      "outputs": [
        {
          "output_type": "stream",
          "name": "stdout",
          "text": [
            "Para salir introduzca un número negativo.\n",
            "Introduzca un número: 5\n",
            "Introduzca un número: 4\n",
            "Introduzca un número: 15\n",
            "Introduzca un número: 5.0\n",
            "Introduzca un número: 4.25\n",
            "Introduzca un número: 16\n",
            "Introduzca un número: -6\n",
            "Se ha introducido un número negativo.\n",
            "Lista completada.\n",
            "[5.0, 4.0, 15.0, 5.0, 4.25, 16.0]\n",
            "La suma de los números de la lista es:  49.25\n",
            "La media de los números de la lista es:  8.208333333333334\n",
            "El número de valores superiores a la media es: 2\n"
          ]
        }
      ]
    },
    {
      "cell_type": "markdown",
      "id": "f2bb8aa7",
      "metadata": {
        "id": "f2bb8aa7"
      },
      "source": [
        "## Ejercicio 1.5. Calculadora\n",
        "* Pedir al usuario dos números con posible decimales\n",
        "* Si alguno de los valores introducidos no es un número válido, por ejemplo una letra o un símbolo, seguir pidiendo valores hasta que el usuario introduzca números válidos.\n",
        "* Crear un **menú** donde el usuario pueda elegir que operación desea hacer con esos dos números:\n",
        " 1. suma\n",
        " 2. resta\n",
        " 3. multiplicación\n",
        " 4. división\n",
        " 5. división entera\n",
        " 6. resto o módulo\n",
        " 7. potencias\n",
        "* En el menú debe haber una opción para realizar las siete operaciones con esos dos números, realizadas todas ellas de una sola vez.\n",
        "* En el menú debe haber una opción para salir del programa.\n",
        "* Utilice **control de errores** para evitar el error de división entre cero. Utilice `try`, `except`."
      ]
    },
    {
      "cell_type": "code",
      "source": [
        "while True:\n",
        "  a = input(\"Indique el primer número: \")\n",
        "  b = input(\"Indique el segundo número: \")\n",
        "  try:\n",
        "    a=float(a)\n",
        "    b=float(b)\n",
        "    break\n",
        "  except ValueError:\n",
        "    print(\"Debe introducir dos números válidos.\")\n",
        "menu = '''\n",
        "Calculadora\n",
        "\\t 1. Suma\n",
        "\\t 2. Resta\n",
        "\\t 3. Multiplicación\n",
        "\\t 4. División\n",
        "\\t 5. División entera\n",
        "\\t 6. Resto o módulo\n",
        "\\t 7. Potencias\n",
        "\\t 8. Todas las operaciones\n",
        "\\t 0. Salir del programa\n",
        "'''\n",
        "print(menu)\n",
        "n = input(\"Elija la opción deseada.\")\n",
        "if n == '1':\n",
        "    print(f\"Ha elegido Sumar: {a+b}\")\n",
        "elif n == '2':\n",
        "    print(f\"Ha elegido Restar: {a-b}\")\n",
        "elif n == '3':\n",
        "    print(f\"Ha elegido Multiplicar: {a*b}\")\n",
        "elif n == '4':\n",
        "  try:\n",
        "    print(f\"Ha elegido División: {a/b}\")\n",
        "  except ZeroDivisionError:\n",
        "    print(\"No se puede dividir por 0.\")\n",
        "elif n == '5':\n",
        "  try:\n",
        "    print(f\"Ha elegido División entera: {a//b}\")\n",
        "  except ZeroDivisionError:\n",
        "    print(\"No se puede dividir por 0.\")\n",
        "elif n == '6':\n",
        "    try:\n",
        "      print(f\"Ha elegido Resto o módulo: {a%b}\")\n",
        "    except ZeroDivisionError:\n",
        "      print(\"No se puede dividir por 0.\")\n",
        "elif n == '7':\n",
        "    print(f\"Ha elegido Potencias: {a**b}\")\n",
        "elif n == '8':\n",
        "    print(\"Ha elegido Todas las operaciones.\")\n",
        "    print(f\"Sumar: {a+b}\")\n",
        "    print(f\"Restar: {a-b}\")\n",
        "    print(f\"Multiplicar: {a*b}\")\n",
        "    try:\n",
        "      print(f\"División: {a/b}\")\n",
        "      print(f\"División entera: {a//b}\")\n",
        "      print(f\"Resto o módulo: {a%b}\")\n",
        "    except ZeroDivisionError:\n",
        "      print(\"No se puede dividir por 0.\")\n",
        "    print(f\"Potencias: {a**b}\")\n",
        "elif n == '0':\n",
        "    print(\"Fin del programa\")\n",
        "else:\n",
        "    print(\"Opción no válida.\")\n"
      ],
      "metadata": {
        "id": "khEBQlBzW7KA",
        "outputId": "3e101710-80ce-4a93-a223-69b210e7b00a",
        "colab": {
          "base_uri": "https://localhost:8080/"
        }
      },
      "id": "khEBQlBzW7KA",
      "execution_count": 4,
      "outputs": [
        {
          "output_type": "stream",
          "name": "stdout",
          "text": [
            "Indique el primer número: 14\n",
            "Indique el segundo número: 6\n",
            "\n",
            "Calculadora\n",
            "\t 1. Suma\n",
            "\t 2. Resta\n",
            "\t 3. Multiplicación\n",
            "\t 4. División\n",
            "\t 5. División entera\n",
            "\t 6. Resto o módulo\n",
            "\t 7. Potencias\n",
            "\t 8. Todas las operaciones\n",
            "\t 0. Salir del programa\n",
            "\n",
            "Elija la opción deseada.8\n",
            "Ha elegido Todas las operaciones.\n",
            "Sumar: 20.0\n",
            "Restar: 8.0\n",
            "Multiplicar: 84.0\n",
            "División: 2.3333333333333335\n",
            "División entera: 2.0\n",
            "Resto o módulo: 2.0\n",
            "Potencias: 7529536.0\n"
          ]
        }
      ]
    },
    {
      "cell_type": "markdown",
      "id": "c0bc1641",
      "metadata": {
        "id": "c0bc1641"
      },
      "source": [
        "## Ejercicio 1.6. Divisores de una serie de números\n",
        "* Generar un número aleatorio entre 2 y 1.000, ambos incluidos.\n",
        "* Mostrar en pantalla todos sus divisores y hacer lo mismo con los 10 números siguientes al número elegido aleatoriamente.\n",
        "* Si los divisores del número únicamente fueran 1 y el propio número, indicar que se trata de un número primo\n",
        "* Por ejemplo si el número aleatorio obtenido fuera 100 se vería algo parecido a esto:\n",
        "   - 100 -> [1,2,4,5,10,20,25,50,100]\n",
        "   - 101 -> Primo\n",
        "   - 102 -> [1,2,3,6,17,34,51,102]\n",
        "   - 103 -> Primo\n",
        "   - 104 -> [1,2,4,8,13,26,52,104]\n",
        "   - 105 -> [1,3,5,7,15,21,35,105]\n",
        "   - 106 -> [1,2,53,106]\n",
        "   - 107 -> Primo\n",
        "   - 108 -> [1,2,3,4,6,9,12,18,27,36,54,108]\n",
        "   - 109 -> Primo\n",
        "   - 110 -> [1,2,5,10,11,22,55,110]"
      ]
    },
    {
      "cell_type": "code",
      "source": [
        "import random \n",
        "\n",
        "def frac(a,b):             # función que calcula la parte fraccionaria\n",
        "  return (a/b) - int(a/b)\n",
        "\n",
        "x = random.randint(2,1000)\n",
        "\n",
        "for x in range(x,x+11):\n",
        "  divisores=[]\n",
        "  for i in range(1,x+1):\n",
        "    if frac(x,i)<1e-9:\n",
        "      divisores.append(i) \n",
        "  if len(divisores)==2:\n",
        "    print(f\"{x:3d} -> Primo\")\n",
        "  else:\n",
        "    print(f\"{x:3d} -> {divisores}\")\n",
        "\n"
      ],
      "metadata": {
        "id": "Xpr28hErWt_v",
        "outputId": "a8627de2-77a4-41f9-c182-3d1694dffd2c",
        "colab": {
          "base_uri": "https://localhost:8080/"
        }
      },
      "id": "Xpr28hErWt_v",
      "execution_count": 5,
      "outputs": [
        {
          "output_type": "stream",
          "name": "stdout",
          "text": [
            " 59 -> Primo\n",
            " 60 -> [1, 2, 3, 4, 5, 6, 10, 12, 15, 20, 30, 60]\n",
            " 61 -> Primo\n",
            " 62 -> [1, 2, 31, 62]\n",
            " 63 -> [1, 3, 7, 9, 21, 63]\n",
            " 64 -> [1, 2, 4, 8, 16, 32, 64]\n",
            " 65 -> [1, 5, 13, 65]\n",
            " 66 -> [1, 2, 3, 6, 11, 22, 33, 66]\n",
            " 67 -> Primo\n",
            " 68 -> [1, 2, 4, 17, 34, 68]\n",
            " 69 -> [1, 3, 23, 69]\n"
          ]
        }
      ]
    },
    {
      "cell_type": "markdown",
      "id": "c53d7a67",
      "metadata": {
        "id": "c53d7a67"
      },
      "source": [
        "## Ejercicio 1.7. Comparar medias de aleatorios con funciones\n",
        "* Generar 12 números aleatorios entre 0 y 100 y calcular su media.\n",
        "* Generar otros 12 números aleatorios entre 0 y 100 y calcular su media.\n",
        "* Mostrar en pantalla las dos listas\n",
        "* Finalmente muestre en pantalla las medias de ambas series y diga cuál de las dos ha resultado mayor.\n",
        "* Utilice una o varias **funciones** para lograrlo."
      ]
    },
    {
      "cell_type": "code",
      "source": [
        "from random import randint\n",
        "from statistics import mean\n",
        "\n",
        "def generaLista():\n",
        "    lista = []\n",
        "    for i in range(12):\n",
        "        lista.append(randint(0,100))\n",
        "    return lista\n",
        "    \n",
        "lista1 = generaLista()\n",
        "lista2 = generaLista()\n",
        "print(lista1)\n",
        "print(lista2)\n",
        "print(\"La media de la serie 1 es\", mean(lista1))\n",
        "print(\"La media de la serie 2 es\", mean(lista2))\n",
        "\n",
        "if mean(lista1)>mean(lista2):\n",
        "  print(\"La media de la serie 1 es mayor que la media de la serie 2.\")\n",
        "elif mean(lista2)>mean(lista1):\n",
        "  print(\"La media de la serie 2 es mayor que la media de la serie 1.\")\n",
        "else:\n",
        "  print(\"La media de ambas series son iguales.\")\n"
      ],
      "metadata": {
        "id": "FiVMa41CX9vn",
        "outputId": "6e9116c6-cd87-4e0d-a8de-2d83c1b19ca5",
        "colab": {
          "base_uri": "https://localhost:8080/"
        }
      },
      "id": "FiVMa41CX9vn",
      "execution_count": 6,
      "outputs": [
        {
          "output_type": "stream",
          "name": "stdout",
          "text": [
            "[30, 77, 5, 100, 22, 67, 46, 6, 51, 33, 40, 68]\n",
            "[65, 61, 49, 97, 11, 100, 70, 60, 92, 24, 50, 69]\n",
            "La media de la serie 1 es 45.416666666666664\n",
            "La media de la serie 2 es 62.333333333333336\n",
            "La media de la serie 2 es mayor que la media de la serie 1.\n"
          ]
        }
      ]
    },
    {
      "cell_type": "markdown",
      "id": "a47f544e",
      "metadata": {
        "id": "a47f544e"
      },
      "source": [
        "## Ejercicio 1.8. Matriz con escalones\n",
        "* Dado el parámetro número de filas (n) crear una matriz:\n",
        " - El número de filas (n) puede variar aleatoriamente entre 1 y 20\n",
        " - El número de columnas siempre es el triple que el de filas\n",
        " - La matriz está compuesta por ceros y unos según la distribución que se muestra en la imagen, según sea el valor del parámetro n.\n",
        "* Se trata de imprimir la matriz en la terminal en función del valor de n que nos den.\n",
        "\n",
        "![matriz.png](https://drive.google.com/uc?id=1yff9bW_yu-U1aTdbR2mTmWkD31ZPrqnc)\n",
        "\n",
        "* Para n=5 se obtendría el siguiente resultado:\n",
        "\n",
        "![matriz.png](https://drive.google.com/uc?id=1Pz5wbwCls6DAwOh2SI0Nes-011nSLTjC)\n"
      ]
    },
    {
      "cell_type": "code",
      "source": [
        "import random\n",
        "import numpy as np\n",
        "\n",
        "n = random.randint(1,20)\n",
        "\n",
        "matriz = []\n",
        "for i in range(n):\n",
        "    matriz.append([])\n",
        "    for j in range(3*n):\n",
        "      if j<(n-i)*3:\n",
        "        matriz[i].append(1)\n",
        "      else:\n",
        "        matriz[i].append(0)\n",
        "\n",
        "matrix=np.array(matriz)\n",
        "print(str(matrix).replace(' [', '').replace('[', '').replace(']', ''))\n"
      ],
      "metadata": {
        "id": "73_cn2hOi8ME",
        "outputId": "af79b063-9ecc-49d8-897f-69d72ca73f79",
        "colab": {
          "base_uri": "https://localhost:8080/"
        }
      },
      "id": "73_cn2hOi8ME",
      "execution_count": 12,
      "outputs": [
        {
          "output_type": "stream",
          "name": "stdout",
          "text": [
            "1 1 1 1 1 1 1 1 1 1 1 1 1 1 1 1 1 1 1 1 1 1 1 1 1 1 1 1 1 1\n",
            "1 1 1 1 1 1 1 1 1 1 1 1 1 1 1 1 1 1 1 1 1 1 1 1 1 1 1 0 0 0\n",
            "1 1 1 1 1 1 1 1 1 1 1 1 1 1 1 1 1 1 1 1 1 1 1 1 0 0 0 0 0 0\n",
            "1 1 1 1 1 1 1 1 1 1 1 1 1 1 1 1 1 1 1 1 1 0 0 0 0 0 0 0 0 0\n",
            "1 1 1 1 1 1 1 1 1 1 1 1 1 1 1 1 1 1 0 0 0 0 0 0 0 0 0 0 0 0\n",
            "1 1 1 1 1 1 1 1 1 1 1 1 1 1 1 0 0 0 0 0 0 0 0 0 0 0 0 0 0 0\n",
            "1 1 1 1 1 1 1 1 1 1 1 1 0 0 0 0 0 0 0 0 0 0 0 0 0 0 0 0 0 0\n",
            "1 1 1 1 1 1 1 1 1 0 0 0 0 0 0 0 0 0 0 0 0 0 0 0 0 0 0 0 0 0\n",
            "1 1 1 1 1 1 0 0 0 0 0 0 0 0 0 0 0 0 0 0 0 0 0 0 0 0 0 0 0 0\n",
            "1 1 1 0 0 0 0 0 0 0 0 0 0 0 0 0 0 0 0 0 0 0 0 0 0 0 0 0 0 0\n"
          ]
        }
      ]
    },
    {
      "cell_type": "markdown",
      "id": "e199291b",
      "metadata": {
        "id": "e199291b"
      },
      "source": [
        "## Ejercicio 1.9. Frecuencia de caracteres de un libro\n",
        "* Analizar la frecuencia de todos los caracteres que contiene un libro\n",
        "* El libro es: \n",
        " - Frankenstein; Or, The Modern Prometheus by Mary Wollstonecraft Shelley\n",
        "* Se puede obtener libremente del proyecto [Gutemberg](https://www.gutenberg.org/ebooks/84). Este es el libro en formato txt:\n",
        "  - [Frankenstein](https://github.com/financieras/pyCourse/blob/main/ejemplos/frankenstein.txt) \n",
        "* Mostrar en pantalla cuantas veces aparece cada caracter.\n",
        "* Utilice un ***diccionario*** en Python para guardar cada carácter y su frecuencia."
      ]
    },
    {
      "cell_type": "code",
      "source": [
        "# así efectuamos el clonado de nuestro repositorio que está en GitHub\n",
        "!git clone https://github.com/financieras/pyCourse.git"
      ],
      "metadata": {
        "id": "7m4cG8aC2tpz",
        "outputId": "e07f2f16-ef72-4918-cb79-fc50744883b1",
        "colab": {
          "base_uri": "https://localhost:8080/"
        }
      },
      "id": "7m4cG8aC2tpz",
      "execution_count": null,
      "outputs": [
        {
          "output_type": "stream",
          "name": "stdout",
          "text": [
            "Cloning into 'pyCourse'...\n",
            "remote: Enumerating objects: 2466, done.\u001b[K\n",
            "remote: Counting objects: 100% (770/770), done.\u001b[K\n",
            "remote: Compressing objects: 100% (304/304), done.\u001b[K\n",
            "remote: Total 2466 (delta 542), reused 645 (delta 463), pack-reused 1696\u001b[K\n",
            "Receiving objects: 100% (2466/2466), 3.14 MiB | 11.43 MiB/s, done.\n",
            "Resolving deltas: 100% (1750/1750), done.\n"
          ]
        }
      ]
    },
    {
      "cell_type": "code",
      "source": [
        "# nos vamos hasta el directorio ejemplos\n",
        "%cd pyCourse/ejemplos"
      ],
      "metadata": {
        "id": "MH6-Xa5m3ADw",
        "outputId": "67a093c4-d8c3-416a-e3d6-1f5c87f3dd4b",
        "colab": {
          "base_uri": "https://localhost:8080/"
        }
      },
      "id": "MH6-Xa5m3ADw",
      "execution_count": null,
      "outputs": [
        {
          "output_type": "stream",
          "name": "stdout",
          "text": [
            "/content/pyCourse/ejemplos\n"
          ]
        }
      ]
    },
    {
      "cell_type": "code",
      "source": [
        "f=open(\"frankenstein.txt\")      # abrimos el archivo y lo asignamos a la variable f (file)\n",
        "libro=f.read()                  # leemos el fichero\n",
        "\n",
        "                                #texto contiene todos los caracteres del libro\n",
        "texto=\"\"                        #string inicializado como cadena vacia\n",
        "for letra in libro:\n",
        " if not(letra in texto):\n",
        "  texto+=letra\n",
        "texto=\"\".join(sorted(texto))\n",
        "print(texto)\n",
        "                                #mostramos el número total de caracteres\n",
        "                                #se incluye el retorno de carro como caracter\n",
        "print(\"Número de caracteres de la variable 'texto'=\",len(texto))\n",
        "\n",
        "caracteres=list(texto)          #convertimos en lista el string\n",
        "                                #mostramos la longitud de la lista\n",
        "                                #que ha de coincidir con la anterior\n",
        "print(\"Elementos de la lista 'caracteres'=\",len(caracteres))\n",
        "                               \n",
        "print('\\n')                     #salto de línea\n",
        "                                #creamos un diccionario del tipo Clave:Valor\n",
        "                                #donde la clave se obtiene de la lista 'caracteres'\n",
        "                                #y el valor inicialmente es cero para todos\n",
        "parejas = dict.fromkeys(caracteres, 0)\n",
        "                                #la siguiene línea hace lo mismo que la anteriror\n",
        "                                #parejas=dict((el,0) for el in caracteres)\n",
        "                                #recorremos todos los caracteres del string texto y por cada uno de ellos\n",
        "                                #recorremos todos los caracteres del libro\n",
        "                                #si coinciden anotamos uno más al marcador\n",
        "for caracter in texto:\n",
        "  for letra in libro:\n",
        "    if letra==caracter:\n",
        "      parejas[letra]+=1\n",
        "                                \n",
        "print('\\n')\n",
        "                                #Imprimimos una relación de caracteres ordenados por frecuencia de aparición\n",
        "for i in sorted(parejas, key=parejas.get, reverse=True):\n",
        "  print(i,parejas[i])\n",
        "f.close()                       # cerramos el fichero"
      ],
      "metadata": {
        "id": "jwtOTJKp3EKH",
        "outputId": "d62eb2f4-f1d4-4dd8-e3d3-157aff909b13",
        "colab": {
          "base_uri": "https://localhost:8080/"
        }
      },
      "id": "jwtOTJKp3EKH",
      "execution_count": null,
      "outputs": [
        {
          "output_type": "stream",
          "name": "stdout",
          "text": [
            "\n",
            " !(),-.0123456789:;?ABCDEFGHIJKLMNOPRSTUVWY[]_abcdefghijklmnopqrstuvwxyzæèéêô—‘’“”\n",
            "Número de caracteres de la variable 'texto'= 83\n",
            "Elementos de la lista 'caracteres'= 83\n",
            "\n",
            "\n",
            "\n",
            "\n",
            "  68736\n",
            "e 44023\n",
            "t 28319\n",
            "a 25389\n",
            "o 23774\n",
            "n 23229\n",
            "i 20391\n",
            "s 20135\n",
            "r 19637\n",
            "h 18936\n",
            "d 16235\n",
            "l 12168\n",
            "m 9959\n",
            "u 9881\n",
            "c 8491\n",
            "f 8189\n",
            "y 7445\n",
            "\n",
            " 7357\n",
            "w 7089\n",
            "p 5626\n",
            "g 5474\n",
            ", 4957\n",
            "b 4529\n",
            "v 3681\n",
            "I 3091\n",
            ". 2920\n",
            "k 1593\n",
            "; 972\n",
            "x 649\n",
            "T 552\n",
            "“ 480\n",
            "A 351\n",
            "j 346\n",
            "q 313\n",
            "” 293\n",
            "H 287\n",
            "M 278\n",
            "W 275\n",
            "S 274\n",
            "! 238\n",
            "? 220\n",
            "B 219\n",
            "z 211\n",
            "E 191\n",
            "C 178\n",
            "F 152\n",
            "’ 144\n",
            "Y 134\n",
            "— 124\n",
            "- 123\n",
            "O 108\n",
            "D 92\n",
            "G 91\n",
            "_ 84\n",
            "N 79\n",
            "L 76\n",
            "P 70\n",
            "J 66\n",
            "1 49\n",
            ": 48\n",
            "‘ 43\n",
            "R 39\n",
            "V 36\n",
            "2 24\n",
            "K 24\n",
            "æ 21\n",
            "7 18\n",
            "( 16\n",
            ") 16\n",
            "U 16\n",
            "3 10\n",
            "4 8\n",
            "8 7\n",
            "5 6\n",
            "9 6\n",
            "ê 6\n",
            "6 5\n",
            "0 4\n",
            "[ 3\n",
            "] 3\n",
            "ô 2\n",
            "è 1\n",
            "é 1\n"
          ]
        }
      ]
    },
    {
      "cell_type": "markdown",
      "id": "a6691e00",
      "metadata": {
        "id": "a6691e00"
      },
      "source": [
        "## Ejercicio 1.10. Detectar el número diferente\n",
        "* Utilice una función para generar un array de números enteros con una longitud aleatoria entre 6 y 15\n",
        "* Los números del array han de ser aleatorios enteros entre entre -99 y +99\n",
        "* Los números del array serán todos pares, menos uno de ellos que será impar, o bien\n",
        "* todos serán impares, menos uno de ellos que será par\n",
        "* Mostrar en pantalla el array\n",
        "* El objetivo es detectar el número que es diferente dentro del array\n",
        "* Crear una **función** a la que pasamos como parámetro el array generado\n",
        "* La función retorna ese número diferente que se ha de imprimir por pantalla\n",
        "* Utilice **funciones**\n",
        "\n",
        "##### Ejemplo 1\n",
        "  - [2, -4, 0, 92, 6, 11, 26, -58, -36]\n",
        "  - Debería retornar 11, ya que es el único número impar del array\n",
        "\n",
        "##### Ejemplo 2\n",
        "  - [-17, 3, 19, -79, 11, 16, -21, -33]\n",
        "  - Debería retornar 16, ya que es el único número par del array"
      ]
    },
    {
      "cell_type": "code",
      "source": [
        ""
      ],
      "metadata": {
        "id": "J4r_Ssk8anTH"
      },
      "id": "J4r_Ssk8anTH",
      "execution_count": null,
      "outputs": []
    },
    {
      "cell_type": "markdown",
      "id": "77921deb",
      "metadata": {
        "id": "77921deb"
      },
      "source": [
        "## Ejercicio 1.11. Edad\n",
        "* Establezca un procedimiento en el que el código toma la fecha del sistema e indicando su fecha de nacimiento le diga cuántos años tiene.\n",
        "* El programa también le dice cuantos días faltan para que llegue su próximo cumpleaños.\n",
        "* ¿Su código tiene en cuenta los años bisiestos?"
      ]
    },
    {
      "cell_type": "code",
      "source": [
        "from datetime import datetime\n",
        "from datetime import date\n",
        "\n",
        "nacimiento=input(\"Introduzca su fecha de nacimiento separando días, meses y años con barra: \")\n",
        "\n",
        "d1=datetime.strptime(nacimiento, \"%d/%m/%Y\")\n",
        "d2=date.today()\n",
        "\n",
        "def calcula_edad(d1):\n",
        "  edad=d2.year-d1.year-((d2.month,d2.day)<(d1.month,d1.day))\n",
        "  return edad\n",
        "\n",
        "d3=date(d2.year,d1.month,d1.day)\n",
        "d4=date(d2.year+1,d1.month,d1.day) \n",
        "\n",
        "\n",
        "def dias_entre(d2, d3):\n",
        "   return abs((d3 - d2).days)\n",
        "\n",
        "def dias_entre(d2, d4):\n",
        "   return abs((d4 - d2).days)\n",
        "\n",
        "print(\"Su edad es \", calcula_edad(d1),\" años.\")\n",
        "\n",
        "if d3>d2:\n",
        "  print(\"Faltan \", dias_entre(d2,d3),\" días para su próximo cumpleaños.\")\n",
        "else:\n",
        "  print(\"Faltan \", dias_entre(d2,d4),\" días para su próximo cumpleaños.\")\n"
      ],
      "metadata": {
        "id": "StgpDwHrfEyl",
        "outputId": "e02ae557-bca9-4517-eb1d-1af6215d76a2",
        "colab": {
          "base_uri": "https://localhost:8080/"
        }
      },
      "id": "StgpDwHrfEyl",
      "execution_count": 20,
      "outputs": [
        {
          "output_type": "stream",
          "name": "stdout",
          "text": [
            "Introduzca su fecha de nacimiento separando días, meses y años con barra: 01/04/1990\n",
            "Su edad es  32  años.\n",
            "Faltan  310  días para su próximo cumpleaños.\n"
          ]
        }
      ]
    },
    {
      "cell_type": "markdown",
      "id": "3968e33a",
      "metadata": {
        "id": "3968e33a"
      },
      "source": [
        "## Ejercicio 1.12. Comprobar si un número es primo\n",
        "* Genere e imprima una lista con los mil primeros números primos\n",
        "* La lista podría ser algo parecido a lo siguiente, donde el primer número primo es 2, el segundo es 3, el tercero es 5, hasta llegar al número mil que es 7.919\n",
        " - 1 → 2\n",
        " - 2 → 3\n",
        " - 3 → 5\n",
        " - 4 → 7\n",
        " - 5 → 11\n",
        " - 6 → 13\n",
        " - 7 → 17\n",
        " - ... ... ...\n",
        " - 1000 → 7919  \n",
        "* Luego genere un número aleatorio entero entre 2 y 7.919.\n",
        "* Muestre en pantalla el número aleatorio generado e indique si pertenece a la lista de los mil primeros números primos.\n",
        "* Si el número no pertenece a la lista imprima un mensaje indicando que el número no es primo, y en caso de serlo indique que lugar de la lista ocupa.\n",
        " - Por ejemplo, el número 17 habría que indicar que ocupa el lugar 7 en la lista de los números primos.\n",
        "* Utilice una o varias **funciones**\n",
        "* Finalmente indique cuanto tiempo ha tardado el programa en ejecutarse"
      ]
    },
    {
      "cell_type": "markdown",
      "id": "d349d756",
      "metadata": {
        "id": "d349d756"
      },
      "source": [
        "## Ejercicio 1.13. Números aleatorios con y sin repetición\n",
        "* Generar dos listas de 10 elementos cada una, con números enteros, aleatorios, entre 1 y 20\n",
        "* En una de las listas los números se pueden llegar a repetir y en la otra no se admiten repeticiones.\n",
        "* Generar una tercera lista con todos los elementos que se repitan en ellas\n",
        "* En esta tercera lista no debe repetirse ningún elemento\n",
        "* Imprimir las tres listas ordenadas"
      ]
    },
    {
      "cell_type": "markdown",
      "id": "f114cf56",
      "metadata": {
        "id": "f114cf56"
      },
      "source": [
        "## Ejercicio 1.14. Ordenar una lista\n",
        "* Generar una lista de números aleatorios con posible repetición e imprimirla.\n",
        "* Realizar la ordenación por **dos métodos**, usando **funciones**\n",
        "* Ordenar la lista sin usar ```sort``` ni ```sorted``` e imprimirla.\n",
        "* Explicar con comentarios del programador lo que hace cada método.\n",
        "* Si el método tiene algún nombre conocido indicarlo, por ejemplo, método de la burbuja."
      ]
    },
    {
      "cell_type": "markdown",
      "id": "be25b009",
      "metadata": {
        "id": "be25b009"
      },
      "source": [
        "## Ejercicio 1.15. Función separa\n",
        "* Genere e imprima una lista de 15 elementos, con números enteros, aleatorios con posible repetición, entre -20 y 20.\n",
        "* Cree una función que separe los elementos de la lista anterior en dos listas\n",
        " - por un lado, los números pares y\n",
        " - por otro, los impares\n",
        "* Las nuevas listas tendrán sus elementos ordenados y sin repetición.\n",
        "* Imprima las listas.\n",
        "* Imprima la desviación típica de cada lista, indicando cuál es la mayor, si la de los pares o la de los impares.\n",
        "* Utilice funciones."
      ]
    },
    {
      "cell_type": "markdown",
      "id": "c9e64049",
      "metadata": {
        "id": "c9e64049"
      },
      "source": [
        "## Ejercicio 1.16. Binario a decimal\n",
        "* Pedir al usuario que introduzca un número binario y convertirlo a decimal.\n",
        "* Mostrar en pantalla también el modo de llegar a ese resultado.\n",
        "* Por ejemplo, si el binario es 101011, entonces se ha de imprimir el proceso que es:\n",
        " - 1\\*2^5 + 0\\*2^4 + 1\\*2^3 + 0\\*2^2 + 1\\*2^1 + 1\\*2^0 = 43\n",
        "\n",
        "![Binario a decimal](https://github.com/financieras/pyCourse/blob/main/jupyter/img/binario_a_decimal.jpg?raw=1)"
      ]
    },
    {
      "cell_type": "markdown",
      "id": "8b2016cf",
      "metadata": {
        "id": "8b2016cf"
      },
      "source": [
        "## Ejercicio 1.17. Decimal a binario\n",
        "* Pedir al usuario que introduzca un número decimal y convertirlo a binario.\n",
        "* Mostrar en pantalla el decimal introducido y su equivalente en binario. \n",
        "* Mostrar en pantalla una **tabla** similar a la del siguiente ejemplo.\n",
        "* La tabla explica la forma de llegar al resultado en binario.\n",
        "\n",
        "![Decimal a binario](https://github.com/financieras/pyCourse/blob/main/jupyter/img/decimal_a_binario.jpg?raw=1)"
      ]
    },
    {
      "cell_type": "markdown",
      "id": "d51b4dab",
      "metadata": {
        "id": "d51b4dab"
      },
      "source": [
        "## Ejercicio 1.18. Suma de dos números para llegar al target\n",
        "* Generar un número entero aleatorio entre 2 y 20. A este número le llamaremos target. \n",
        "* Generar una lista de números aleatorios enteros entre -10 y 10.\n",
        "* La lista puede tener desde un mínimo de dos elementos a un máximo de seis.\n",
        "* La lista debe contener dos números que sumados nos den el target.\n",
        "* El programa generará un target y una lista y verificará que se cumple la condición de la suma.\n",
        "* En caso de que no se cumpla seguirá generando otro target y otra lista hasta conseguirlo.\n",
        "* La lista debe ser de **solución única**, esto es, solo puede haber un par de números que sumados den el target. \n",
        "* Como ejemplo se puede ver la siguiente imagen donde mostramos tres listas que cumplen la condición.\n",
        "* En su caso, debe generar y mostrar 100 listas que cumplan los requisitos pedidos.\n",
        "\n",
        "![Sumar dos numeros](https://github.com/financieras/pyCourse/blob/main/jupyter/img/sumar_dos_numeros.jpg?raw=1)"
      ]
    },
    {
      "cell_type": "markdown",
      "id": "71e906cb",
      "metadata": {
        "id": "71e906cb"
      },
      "source": [
        "## Ejercicio 1.19. Segundo mínimo en listas anidadas\n",
        "* Disponemos de la siguiente lista anidada:\n",
        " - [[\"Ana\",1],[\"Raúl\",1],[\"Jose\",9],[\"David\",7],[\"Eva\",8],[\"Felipe\",4],[\"Héctor\",9],[\"Isabel\",4],[\"Susana\",5]]\n",
        "* El mínimo de esta lista es 1 que recae en Ana y Raúl.\n",
        "* El segundo mínimo de esta lista es 4 que está asociado a Felipe e Isabel.\n",
        "* Estamos buscando los nombres que están asociados al segundo mínimo.\n",
        "* Para esta lista, el procedimiento debería proporcionar como salida: Felipe, Isabel.\n",
        "* Crear un procedimiento que genere listas anidadas similares a la del ejemplo, de longitud variable, que contenga entre 2 y 9 sublistas.\n",
        "* Se debe **garantizar que existe el segundo mínimo**. El segundo mínimo no existiría si todos los valores numéricos coincidieran.\n",
        "* El programa mostrará en pantalla la lista generada y el nombre o nombres asociados con el segundo mínimo.\n",
        "* Utilice una o varias **funciones** para lograrlo.\n",
        "* Otros ejemplos:\n",
        " - [[\"Iris\",5],[\"Gala\",2],[\"Zoe\",8]] El segundo mínimo lo tiene: Iris.\n",
        " - [[\"Abel\",3],[\"Blas\",2],[\"Hugo\",8],[\"Leo\",3]] El segundo mínimo lo tienen: Abel y Leo."
      ]
    },
    {
      "cell_type": "markdown",
      "id": "42fae779",
      "metadata": {
        "id": "42fae779"
      },
      "source": [
        "## Ejercicio 1.20. Lista de impares\n",
        "* Generar números enteros aleatorios entre 10 y 99 (ambos incluidos) y con posible repetición. Estos números se incorporarán a una lista de longitud 17.\n",
        "* Generar continuamente listas de este tipo hasta lograr una donde todos sus elementos sean impares y sin repetición.\n",
        "* Indique cuántas listas fueron generadas hasta llegar a la que cumple estos requisitos.\n",
        "* Imprimir la lista obtenida de forma ordenada, de mayor a menor.\n",
        "* Imprimir el tiempo que se ha tardado en lograr esa lista expresado en segundos con hasta **6 decimales**.\n",
        "\n",
        "#### *Nota*\n",
        "* La \"longitud 17\" es orientativa para que el número de segundos empleados no sea muy grande, ni una fracción muy pequeña de un segundo.\n",
        "* Si en su ordenador y con su código se alcanzan tiempos excesivamente grandes pruebe con listas de longitud algo menor, por ejemplo, con 16 o menos.\n",
        "\n",
        "![Impares](https://github.com/financieras/pyCourse/blob/main/jupyter/img/impares.jpg?raw=1)"
      ]
    }
  ],
  "metadata": {
    "kernelspec": {
      "display_name": "Python 3 (ipykernel)",
      "language": "python",
      "name": "python3"
    },
    "language_info": {
      "codemirror_mode": {
        "name": "ipython",
        "version": 3
      },
      "file_extension": ".py",
      "mimetype": "text/x-python",
      "name": "python",
      "nbconvert_exporter": "python",
      "pygments_lexer": "ipython3",
      "version": "3.8.11"
    },
    "colab": {
      "name": "practica1.ipynb",
      "provenance": [],
      "include_colab_link": true
    }
  },
  "nbformat": 4,
  "nbformat_minor": 5
}