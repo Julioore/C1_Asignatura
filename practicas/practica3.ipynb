{
  "cells": [
    {
      "cell_type": "markdown",
      "metadata": {
        "id": "view-in-github",
        "colab_type": "text"
      },
      "source": [
        "<a href=\"https://colab.research.google.com/github/Julioore/C1_Asignatura/blob/main/practicas/practica3.ipynb\" target=\"_parent\"><img src=\"https://colab.research.google.com/assets/colab-badge.svg\" alt=\"Open In Colab\"/></a>"
      ]
    },
    {
      "cell_type": "markdown",
      "id": "8b40af46",
      "metadata": {
        "id": "8b40af46"
      },
      "source": [
        "# Práctica 3\n",
        "* Puede resolver aquí los ejercicios abriendo una celda después de cada uno de los enunciados.  \n",
        "* Por favor, documente la solución de los ejercicios añadiendo suficientes **comentarios** del programador que expliquen el código."
      ]
    },
    {
      "cell_type": "markdown",
      "id": "90a31d0f",
      "metadata": {
        "id": "90a31d0f"
      },
      "source": [
        "## Ejercicio 3.1. Trabajar con un DataSet\n",
        "* Obtener un dataset, preferiblemente con datos financieros, actuariales, económicos o estadísticos.\n",
        "* Crear un modelo de análisis de los datos, utilizando las librerías principales para el análisis de datos, por ejemplo:\n",
        "    - NumPy\n",
        "    - Pandas\n",
        "    - Matplotlib"
      ]
    },
    {
      "cell_type": "markdown",
      "id": "90020a63",
      "metadata": {
        "id": "90020a63"
      },
      "source": [
        "## Ejercicio 3.2. Gráfico histórico de un índice o valor bursátil\n",
        "* Descargar un archivo con formato ***csv*** de la página de Yahoo Finanzas con la cotización de:\n",
        " - un índice (IBEX, NASDAQ, ...) o\n",
        " - valor bursátil,\n",
        "* o bien, de otra fuente disponible.\n",
        "* Crear un procedimiento que lea el fichero y finalmente obtenga un gráfico del histórico del índice o valor.\n",
        "* Tomar el periodo histórico más largo posible.\n",
        "* Alternativamente o adicionalmente, si disponemos de una API o fuente de información diferente de un *csv* descargado de forma manual, también se podría realizar de una forma más automatizada."
      ]
    },
    {
      "cell_type": "code",
      "source": [
        "# así efectuamos el clonado de nuestro repositorio que está en GitHub\n",
        "!git clone https://github.com/Julioore/C1_Asignatura.git"
      ],
      "metadata": {
        "id": "Wr-DZ4rC7Pr2",
        "outputId": "3bdca144-4d43-48c8-b41a-25b05361bed5",
        "colab": {
          "base_uri": "https://localhost:8080/"
        }
      },
      "id": "Wr-DZ4rC7Pr2",
      "execution_count": 1,
      "outputs": [
        {
          "output_type": "stream",
          "name": "stdout",
          "text": [
            "Cloning into 'C1_Asignatura'...\n",
            "remote: Enumerating objects: 171, done.\u001b[K\n",
            "remote: Counting objects: 100% (171/171), done.\u001b[K\n",
            "remote: Compressing objects: 100% (107/107), done.\u001b[K\n",
            "remote: Total 171 (delta 42), reused 0 (delta 0), pack-reused 0\u001b[K\n",
            "Receiving objects: 100% (171/171), 205.31 KiB | 4.46 MiB/s, done.\n",
            "Resolving deltas: 100% (42/42), done.\n"
          ]
        }
      ]
    },
    {
      "cell_type": "code",
      "source": [
        "# nos vamos hasta el directorio donde se encuentra el fichero\n",
        "%cd C1_Asignatura"
      ],
      "metadata": {
        "id": "wElYmm5N-AWe",
        "outputId": "b7aced2d-829e-4e39-ae0f-02391a3864c8",
        "colab": {
          "base_uri": "https://localhost:8080/"
        }
      },
      "id": "wElYmm5N-AWe",
      "execution_count": 2,
      "outputs": [
        {
          "output_type": "stream",
          "name": "stdout",
          "text": [
            "/content/C1_Asignatura\n"
          ]
        }
      ]
    },
    {
      "cell_type": "code",
      "source": [
        "import pandas as pd                     # importamos pandas\n",
        "path = 'SAN.csv'                        # establecemos la ruta del archivo\n",
        "historicosantander = pd.read_csv(path)  # esta es la variable a la que hemos asociado el DataFrame para luego tratarla\n",
        "historicosantander\n",
        "\n",
        "historicosantander[[\"Close\"]].plot()"
      ],
      "metadata": {
        "id": "CXd6Mn-Arf5K",
        "outputId": "0fe48298-91bd-4c31-cb4b-f1caa912d37e",
        "colab": {
          "base_uri": "https://localhost:8080/",
          "height": 424
        }
      },
      "id": "CXd6Mn-Arf5K",
      "execution_count": 3,
      "outputs": [
        {
          "output_type": "execute_result",
          "data": {
            "text/plain": [
              "            Date  Open      High       Low     Close  Adj Close   Volume\n",
              "0     1987-07-30  0.00  4.391340  4.319853  4.350490   0.739299  5826240\n",
              "1     1987-07-31  0.00  4.370915  4.319853  4.330065   0.735828  2104056\n",
              "2     1987-08-03  0.00  4.330065  4.309641  4.319853   0.734092   965736\n",
              "3     1987-08-04  0.00  4.319853  4.227941  4.227941   0.718473  1479816\n",
              "4     1987-08-05  0.00  4.217729  4.084967  4.105392   0.697648  1068552\n",
              "...          ...   ...       ...       ...       ...        ...      ...\n",
              "8795  2022-06-23  2.85  2.860000  2.790000  2.860000   2.860000  7037900\n",
              "8796  2022-06-24  2.85  2.920000  2.850000  2.910000   2.910000  5319000\n",
              "8797  2022-06-27  2.91  2.930000  2.870000  2.910000   2.910000  4343000\n",
              "8798  2022-06-28  2.92  2.950000  2.870000  2.880000   2.880000  6349800\n",
              "8799  2022-06-29  2.88  2.880000  2.820000  2.850000   2.850000  5426398\n",
              "\n",
              "[8800 rows x 7 columns]"
            ],
            "text/html": [
              "\n",
              "  <div id=\"df-03745989-93e5-4eae-8a6c-188cf9125f8c\">\n",
              "    <div class=\"colab-df-container\">\n",
              "      <div>\n",
              "<style scoped>\n",
              "    .dataframe tbody tr th:only-of-type {\n",
              "        vertical-align: middle;\n",
              "    }\n",
              "\n",
              "    .dataframe tbody tr th {\n",
              "        vertical-align: top;\n",
              "    }\n",
              "\n",
              "    .dataframe thead th {\n",
              "        text-align: right;\n",
              "    }\n",
              "</style>\n",
              "<table border=\"1\" class=\"dataframe\">\n",
              "  <thead>\n",
              "    <tr style=\"text-align: right;\">\n",
              "      <th></th>\n",
              "      <th>Date</th>\n",
              "      <th>Open</th>\n",
              "      <th>High</th>\n",
              "      <th>Low</th>\n",
              "      <th>Close</th>\n",
              "      <th>Adj Close</th>\n",
              "      <th>Volume</th>\n",
              "    </tr>\n",
              "  </thead>\n",
              "  <tbody>\n",
              "    <tr>\n",
              "      <th>0</th>\n",
              "      <td>1987-07-30</td>\n",
              "      <td>0.00</td>\n",
              "      <td>4.391340</td>\n",
              "      <td>4.319853</td>\n",
              "      <td>4.350490</td>\n",
              "      <td>0.739299</td>\n",
              "      <td>5826240</td>\n",
              "    </tr>\n",
              "    <tr>\n",
              "      <th>1</th>\n",
              "      <td>1987-07-31</td>\n",
              "      <td>0.00</td>\n",
              "      <td>4.370915</td>\n",
              "      <td>4.319853</td>\n",
              "      <td>4.330065</td>\n",
              "      <td>0.735828</td>\n",
              "      <td>2104056</td>\n",
              "    </tr>\n",
              "    <tr>\n",
              "      <th>2</th>\n",
              "      <td>1987-08-03</td>\n",
              "      <td>0.00</td>\n",
              "      <td>4.330065</td>\n",
              "      <td>4.309641</td>\n",
              "      <td>4.319853</td>\n",
              "      <td>0.734092</td>\n",
              "      <td>965736</td>\n",
              "    </tr>\n",
              "    <tr>\n",
              "      <th>3</th>\n",
              "      <td>1987-08-04</td>\n",
              "      <td>0.00</td>\n",
              "      <td>4.319853</td>\n",
              "      <td>4.227941</td>\n",
              "      <td>4.227941</td>\n",
              "      <td>0.718473</td>\n",
              "      <td>1479816</td>\n",
              "    </tr>\n",
              "    <tr>\n",
              "      <th>4</th>\n",
              "      <td>1987-08-05</td>\n",
              "      <td>0.00</td>\n",
              "      <td>4.217729</td>\n",
              "      <td>4.084967</td>\n",
              "      <td>4.105392</td>\n",
              "      <td>0.697648</td>\n",
              "      <td>1068552</td>\n",
              "    </tr>\n",
              "    <tr>\n",
              "      <th>...</th>\n",
              "      <td>...</td>\n",
              "      <td>...</td>\n",
              "      <td>...</td>\n",
              "      <td>...</td>\n",
              "      <td>...</td>\n",
              "      <td>...</td>\n",
              "      <td>...</td>\n",
              "    </tr>\n",
              "    <tr>\n",
              "      <th>8795</th>\n",
              "      <td>2022-06-23</td>\n",
              "      <td>2.85</td>\n",
              "      <td>2.860000</td>\n",
              "      <td>2.790000</td>\n",
              "      <td>2.860000</td>\n",
              "      <td>2.860000</td>\n",
              "      <td>7037900</td>\n",
              "    </tr>\n",
              "    <tr>\n",
              "      <th>8796</th>\n",
              "      <td>2022-06-24</td>\n",
              "      <td>2.85</td>\n",
              "      <td>2.920000</td>\n",
              "      <td>2.850000</td>\n",
              "      <td>2.910000</td>\n",
              "      <td>2.910000</td>\n",
              "      <td>5319000</td>\n",
              "    </tr>\n",
              "    <tr>\n",
              "      <th>8797</th>\n",
              "      <td>2022-06-27</td>\n",
              "      <td>2.91</td>\n",
              "      <td>2.930000</td>\n",
              "      <td>2.870000</td>\n",
              "      <td>2.910000</td>\n",
              "      <td>2.910000</td>\n",
              "      <td>4343000</td>\n",
              "    </tr>\n",
              "    <tr>\n",
              "      <th>8798</th>\n",
              "      <td>2022-06-28</td>\n",
              "      <td>2.92</td>\n",
              "      <td>2.950000</td>\n",
              "      <td>2.870000</td>\n",
              "      <td>2.880000</td>\n",
              "      <td>2.880000</td>\n",
              "      <td>6349800</td>\n",
              "    </tr>\n",
              "    <tr>\n",
              "      <th>8799</th>\n",
              "      <td>2022-06-29</td>\n",
              "      <td>2.88</td>\n",
              "      <td>2.880000</td>\n",
              "      <td>2.820000</td>\n",
              "      <td>2.850000</td>\n",
              "      <td>2.850000</td>\n",
              "      <td>5426398</td>\n",
              "    </tr>\n",
              "  </tbody>\n",
              "</table>\n",
              "<p>8800 rows × 7 columns</p>\n",
              "</div>\n",
              "      <button class=\"colab-df-convert\" onclick=\"convertToInteractive('df-03745989-93e5-4eae-8a6c-188cf9125f8c')\"\n",
              "              title=\"Convert this dataframe to an interactive table.\"\n",
              "              style=\"display:none;\">\n",
              "        \n",
              "  <svg xmlns=\"http://www.w3.org/2000/svg\" height=\"24px\"viewBox=\"0 0 24 24\"\n",
              "       width=\"24px\">\n",
              "    <path d=\"M0 0h24v24H0V0z\" fill=\"none\"/>\n",
              "    <path d=\"M18.56 5.44l.94 2.06.94-2.06 2.06-.94-2.06-.94-.94-2.06-.94 2.06-2.06.94zm-11 1L8.5 8.5l.94-2.06 2.06-.94-2.06-.94L8.5 2.5l-.94 2.06-2.06.94zm10 10l.94 2.06.94-2.06 2.06-.94-2.06-.94-.94-2.06-.94 2.06-2.06.94z\"/><path d=\"M17.41 7.96l-1.37-1.37c-.4-.4-.92-.59-1.43-.59-.52 0-1.04.2-1.43.59L10.3 9.45l-7.72 7.72c-.78.78-.78 2.05 0 2.83L4 21.41c.39.39.9.59 1.41.59.51 0 1.02-.2 1.41-.59l7.78-7.78 2.81-2.81c.8-.78.8-2.07 0-2.86zM5.41 20L4 18.59l7.72-7.72 1.47 1.35L5.41 20z\"/>\n",
              "  </svg>\n",
              "      </button>\n",
              "      \n",
              "  <style>\n",
              "    .colab-df-container {\n",
              "      display:flex;\n",
              "      flex-wrap:wrap;\n",
              "      gap: 12px;\n",
              "    }\n",
              "\n",
              "    .colab-df-convert {\n",
              "      background-color: #E8F0FE;\n",
              "      border: none;\n",
              "      border-radius: 50%;\n",
              "      cursor: pointer;\n",
              "      display: none;\n",
              "      fill: #1967D2;\n",
              "      height: 32px;\n",
              "      padding: 0 0 0 0;\n",
              "      width: 32px;\n",
              "    }\n",
              "\n",
              "    .colab-df-convert:hover {\n",
              "      background-color: #E2EBFA;\n",
              "      box-shadow: 0px 1px 2px rgba(60, 64, 67, 0.3), 0px 1px 3px 1px rgba(60, 64, 67, 0.15);\n",
              "      fill: #174EA6;\n",
              "    }\n",
              "\n",
              "    [theme=dark] .colab-df-convert {\n",
              "      background-color: #3B4455;\n",
              "      fill: #D2E3FC;\n",
              "    }\n",
              "\n",
              "    [theme=dark] .colab-df-convert:hover {\n",
              "      background-color: #434B5C;\n",
              "      box-shadow: 0px 1px 3px 1px rgba(0, 0, 0, 0.15);\n",
              "      filter: drop-shadow(0px 1px 2px rgba(0, 0, 0, 0.3));\n",
              "      fill: #FFFFFF;\n",
              "    }\n",
              "  </style>\n",
              "\n",
              "      <script>\n",
              "        const buttonEl =\n",
              "          document.querySelector('#df-03745989-93e5-4eae-8a6c-188cf9125f8c button.colab-df-convert');\n",
              "        buttonEl.style.display =\n",
              "          google.colab.kernel.accessAllowed ? 'block' : 'none';\n",
              "\n",
              "        async function convertToInteractive(key) {\n",
              "          const element = document.querySelector('#df-03745989-93e5-4eae-8a6c-188cf9125f8c');\n",
              "          const dataTable =\n",
              "            await google.colab.kernel.invokeFunction('convertToInteractive',\n",
              "                                                     [key], {});\n",
              "          if (!dataTable) return;\n",
              "\n",
              "          const docLinkHtml = 'Like what you see? Visit the ' +\n",
              "            '<a target=\"_blank\" href=https://colab.research.google.com/notebooks/data_table.ipynb>data table notebook</a>'\n",
              "            + ' to learn more about interactive tables.';\n",
              "          element.innerHTML = '';\n",
              "          dataTable['output_type'] = 'display_data';\n",
              "          await google.colab.output.renderOutput(dataTable, element);\n",
              "          const docLink = document.createElement('div');\n",
              "          docLink.innerHTML = docLinkHtml;\n",
              "          element.appendChild(docLink);\n",
              "        }\n",
              "      </script>\n",
              "    </div>\n",
              "  </div>\n",
              "  "
            ]
          },
          "metadata": {},
          "execution_count": 3
        }
      ]
    },
    {
      "cell_type": "markdown",
      "id": "42322381",
      "metadata": {
        "id": "42322381"
      },
      "source": [
        "## Ejercicio 3.3. Trabajar con la Librería openpyxl\n",
        "* Crear una aplicación programada en Python que permita interactuar con la **hoja de cálculo** tanto para lectura, como para escritura.\n",
        "* Utilice la Librería openpyxl, u otra que considere adecuada para interactuar con hoja de cálculo"
      ]
    },
    {
      "cell_type": "markdown",
      "id": "9adbef23",
      "metadata": {
        "id": "9adbef23"
      },
      "source": [
        "## Ejercicio 3.4. Librería actuarial\n",
        "* Utilizando la librería actuarial **pyliferisk**, o cualquier otra que considere adecuada en este campo, cree un caso donde se muestren diferentes cálculos y procedimientos que se puedan realizar con ella.\n",
        "* Alternativamente, puede realizar su propia librería actuarial y probarla creando ejemplos prácticos. En este caso, no olvide documentar la funcionalidad de los métodos que programe, utilizando POO."
      ]
    },
    {
      "cell_type": "markdown",
      "id": "37241230",
      "metadata": {
        "id": "37241230"
      },
      "source": [
        "## Ejercicio 3.5. Trabajar con una API\n",
        "* Localizar una API con datos que puedan resultar de interés.\n",
        "* Crear una aplicación programada en Python que utilice los datos de la API, preferiblemente con datos en tiempo real.\n",
        "* Mostrar la información que nuestra aplicación pueda procesar, según ciertos filtros, que faciliten el uso de la API."
      ]
    },
    {
      "cell_type": "markdown",
      "id": "67115e56",
      "metadata": {
        "id": "67115e56"
      },
      "source": [
        "## Ejercicio 3.6. Página web con Flask\n",
        "* Crear una aplicación de página web programada en Python con el framework Flask.\n",
        "* Puede desplegarla en alguna plataforma gratuita como, por ejemplo, [Pythonanywhere](https://www.pythonanywhere.com) o [Heroku](https://www.heroku.com)."
      ]
    },
    {
      "cell_type": "code",
      "source": [
        "# La página web es: https://opcion22.pythonanywhere.com"
      ],
      "metadata": {
        "id": "lCfbeeySlB5R"
      },
      "id": "lCfbeeySlB5R",
      "execution_count": null,
      "outputs": []
    },
    {
      "cell_type": "markdown",
      "id": "7e80d728",
      "metadata": {
        "id": "7e80d728"
      },
      "source": [
        "## Ejercicio 3.7. Bot de Telegram que proporciona cotizaciones en tiempo real\n",
        "Crear un Bot de Telegram programado en Python que realizando **Web Scraping** nos pueda dar precios en tiempo real de valores cotizados en bolsa, o en mercados financieros internacionales.  \n",
        "Adjuntar capturas de pantalla mostrando el funcionamiento del bot en Telegram."
      ]
    },
    {
      "cell_type": "markdown",
      "metadata": {
        "id": "ovrHbDBWZHwg"
      },
      "source": [
        "## Ejercicio 3.8. Estrategias de Trading\n",
        "* Elegir una compañía cotizada y realizar con ella diferentes estrategias de trading, con gráficos e indicadores bursátiles.\n",
        "* Puede utilizar la librería TA-Lib u otro sistema para efectuar el análisis."
      ],
      "id": "ovrHbDBWZHwg"
    },
    {
      "cell_type": "markdown",
      "source": [
        "## Ejercicio 3.9. Finanzas\n",
        "Estudie casos en el campo de las finanzas:\n",
        "* VAN y TIR\n",
        "* Cuadro de amortización de préstamos\n",
        "* Operativa con activos de Renta Fija: bonos\n",
        "* *Duration*\n",
        "* Estructura Temporal de los Tipos de Interés (ETTI)\n",
        "* Forwards sobre tipos de interés\n",
        "* Arbitraje\n",
        "* Random Walk en una y dos dimensiones\n",
        "* ... / ...\n"
      ],
      "metadata": {
        "id": "wpAipLNAtJvT"
      },
      "id": "wpAipLNAtJvT"
    },
    {
      "cell_type": "code",
      "source": [
        "!pip install numpy-financial     # se instala con pip la librería financiera"
      ],
      "metadata": {
        "id": "O8FY2ke9HWSL",
        "outputId": "db4f813f-2c53-46d3-a229-a91f18eec7f0",
        "colab": {
          "base_uri": "https://localhost:8080/"
        }
      },
      "id": "O8FY2ke9HWSL",
      "execution_count": null,
      "outputs": [
        {
          "output_type": "stream",
          "name": "stdout",
          "text": [
            "Looking in indexes: https://pypi.org/simple, https://us-python.pkg.dev/colab-wheels/public/simple/\n",
            "Requirement already satisfied: numpy-financial in /usr/local/lib/python3.7/dist-packages (1.0.0)\n",
            "Requirement already satisfied: numpy>=1.15 in /usr/local/lib/python3.7/dist-packages (from numpy-financial) (1.21.6)\n"
          ]
        }
      ]
    },
    {
      "cell_type": "code",
      "source": [
        "import numpy_financial as npf\n",
        "import numpy as np\n",
        "import tabulate as tab\n",
        "import matplotlib.pyplot as plt\n",
        "\n",
        "# datos del préstamo\n",
        "\n",
        "C0 = 100000\n",
        "n = 10 \n",
        "tasa = 0.05\n",
        "\n",
        "# en primer lugar vamos a calcular la cuota constante\n",
        "\n",
        "pago = npf.pmt(rate=tasa, nper=n, pv=-C0, fv=0, when='end')\n",
        "print(pago)\n",
        "\n",
        "#Vamos a calcular el capital pendiente de cada periodo\n",
        "\n",
        "pendiente = npf.fv(rate=tasa, nper =range(n+1), pmt = pago, pv= -C0)\n",
        "print(pendiente)\n",
        "\n",
        "#Calculamos la amortización de cada año\n",
        "\n",
        "amortz = npf.ppmt(rate=tasa, per=range(n+1), nper=n, pv=-C0, fv=0, when='end')\n",
        "print(amortz)\n",
        "\n",
        "#Calculamos los intereses de cada periodo\n",
        "\n",
        "interes = npf.ipmt(rate=tasa, per=range(n+1), nper=n, pv=-C0, fv=0)\n",
        "print(interes)\n",
        "\n",
        "#Comprobamos\n",
        "\n",
        "comprob = np.array(amortz + interes)\n",
        "print(comprob)\n",
        "\n",
        "#Hacemos un cuadro de amortización para ver los datos con la librería tabulate\n",
        "datos =[]\n",
        "saldo = C0\n",
        "saldo2 = 0\n",
        "linea1 = [0,0,0,0,C0,0]\n",
        "datos.append(linea1)\n",
        "\n",
        "Anualidad = npf.pmt(rate=tasa, nper=n, pv=-C0, fv=0, when='end')\n",
        "\n",
        "for i in range(1, n+1):\n",
        "    pago_capital = npf.ppmt(rate=tasa, per=i, nper=n, pv=-C0, fv=0, when='end')\n",
        "    pago_int = Anualidad - pago_capital\n",
        "    saldo -= pago_capital\n",
        "    saldo2 += pago_capital\n",
        "    \n",
        "    linea = [i, format(Anualidad, '.0f'),  format(pago_int, '.0f'), format(pago_capital, '.0f'), format(saldo, '.0f'), format(saldo2, '.0f')]\n",
        "    \n",
        "    datos.append(linea)\n",
        "    \n",
        "print(tab.tabulate(datos, headers= ['Periodo', 'Anualidad', 'Intereses', 'Amortización','Capital Vivo','Capital Amortizado'], tablefmt = 'psql'))"
      ],
      "metadata": {
        "id": "OYVtQuqwHEiF",
        "outputId": "5fa31ffa-f2ca-4177-b9f8-3b428c164b04",
        "colab": {
          "base_uri": "https://localhost:8080/"
        }
      },
      "id": "OYVtQuqwHEiF",
      "execution_count": null,
      "outputs": [
        {
          "output_type": "stream",
          "name": "stdout",
          "text": [
            "12950.457496545661\n",
            "[100000.          92049.54250345  83701.56213208  74936.18274214\n",
            "  65732.5343827   56068.70360529  45921.68128901  35267.30785691\n",
            "  24080.21575321  12333.76904433     -0.        ]\n",
            "[ 7571.86428242  7950.45749655  8347.98037137  8765.37938994\n",
            "  9203.64835944  9663.83077741 10147.02231628 10654.3734321\n",
            " 11187.0921037  11746.44670888 12333.76904433]\n",
            "[5378.59321412 5000.         4602.47712517 4185.0781066  3746.80913711\n",
            " 3286.62671914 2803.43518026 2296.08406445 1763.36539285 1204.01078766\n",
            "  616.68845222]\n",
            "[12950.45749655 12950.45749655 12950.45749655 12950.45749655\n",
            " 12950.45749655 12950.45749655 12950.45749655 12950.45749655\n",
            " 12950.45749655 12950.45749655 12950.45749655]\n",
            "+-----------+-------------+-------------+----------------+----------------+----------------------+\n",
            "|   Periodo |   Anualidad |   Intereses |   Amortización |   Capital Vivo |   Capital Amortizado |\n",
            "|-----------+-------------+-------------+----------------+----------------+----------------------|\n",
            "|         0 |           0 |           0 |              0 |         100000 |                    0 |\n",
            "|         1 |       12950 |        5000 |           7950 |          92050 |                 7950 |\n",
            "|         2 |       12950 |        4602 |           8348 |          83702 |                16298 |\n",
            "|         3 |       12950 |        4185 |           8765 |          74936 |                25064 |\n",
            "|         4 |       12950 |        3747 |           9204 |          65733 |                34267 |\n",
            "|         5 |       12950 |        3287 |           9664 |          56069 |                43931 |\n",
            "|         6 |       12950 |        2803 |          10147 |          45922 |                54078 |\n",
            "|         7 |       12950 |        2296 |          10654 |          35267 |                64733 |\n",
            "|         8 |       12950 |        1763 |          11187 |          24080 |                75920 |\n",
            "|         9 |       12950 |        1204 |          11746 |          12334 |                87666 |\n",
            "|        10 |       12950 |         617 |          12334 |              0 |               100000 |\n",
            "+-----------+-------------+-------------+----------------+----------------+----------------------+\n"
          ]
        }
      ]
    },
    {
      "cell_type": "markdown",
      "source": [
        "## Ejercicio 3.10. Valoración de opciones financieras\n",
        "* Método de valoración de opciones europeas mediante arbol binomial\n",
        "* Método de Black-Scholes\n",
        "* Convergencia de ambos métodos\n",
        "* Gráfico de convergencia\n",
        "* Arbitraje en caso de no cumplirse la paridad Put-Call"
      ],
      "metadata": {
        "id": "aGpxuM7_unko"
      },
      "id": "aGpxuM7_unko"
    }
  ],
  "metadata": {
    "kernelspec": {
      "display_name": "Python 3 (ipykernel)",
      "language": "python",
      "name": "python3"
    },
    "language_info": {
      "codemirror_mode": {
        "name": "ipython",
        "version": 3
      },
      "file_extension": ".py",
      "mimetype": "text/x-python",
      "name": "python",
      "nbconvert_exporter": "python",
      "pygments_lexer": "ipython3",
      "version": "3.8.11"
    },
    "colab": {
      "name": "practica3.ipynb",
      "provenance": [],
      "include_colab_link": true
    }
  },
  "nbformat": 4,
  "nbformat_minor": 5
}