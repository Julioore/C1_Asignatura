{
  "cells": [
    {
      "cell_type": "markdown",
      "metadata": {
        "id": "view-in-github",
        "colab_type": "text"
      },
      "source": [
        "<a href=\"https://colab.research.google.com/github/Julioore/C1_Asignatura/blob/main/practicas/practica2.ipynb\" target=\"_parent\"><img src=\"https://colab.research.google.com/assets/colab-badge.svg\" alt=\"Open In Colab\"/></a>"
      ]
    },
    {
      "cell_type": "markdown",
      "id": "848b64b1",
      "metadata": {
        "id": "848b64b1"
      },
      "source": [
        "# Práctica 2\n",
        "* Puede resolver aquí los ejercicios abriendo una celda después de cada uno de los enunciados.  \n",
        "* Por favor, documente la solución de los ejercicios añadiendo suficientes **comentarios** del programador que expliquen el código."
      ]
    },
    {
      "cell_type": "markdown",
      "id": "2a4b20c9",
      "metadata": {
        "id": "2a4b20c9"
      },
      "source": [
        "## Ejercicio 2.1. El objeto persona\n",
        "* Crear la clase Persona con los atributos:\n",
        " - nombre\n",
        " - edad\n",
        " - profesión\n",
        " - altura\n",
        " - ciudad y \n",
        " - otro de su elección.  \n",
        "* Crear un par de objetos Persona.  \n",
        "* Finalmente deseamos que cada persona nos cuente algo de su vida.  \n",
        "* Establezca y utilice el método especial \\_\\_str\\_\\_."
      ]
    },
    {
      "cell_type": "code",
      "source": [
        "class Persona:                                                      # nombre en singular y con la primera letra en mayúscula, por convenio\n",
        "  def __init__(self, nombre, edad, profesion, altura, ciudad, peso): # método contructor con los atributos de instancia\n",
        "    self.nombre = nombre\n",
        "    self.edad = edad\n",
        "    self.profesion = profesion\n",
        "    self.altura = altura\n",
        "    self.ciudad = ciudad\n",
        "    self.peso = peso\n",
        "                                                                    # método especial __str__ para devolver frase contando algo de su vida\n",
        "  def __str__(self):\n",
        "    return f\"Me llamo {self.nombre}, tengo {self.edad} años y trabajo de {self.profesion} en {self.ciudad}.\"\n",
        "\n",
        "persona1 = Persona(\"Juan\",\"35\",\"fontanero\",\"180\",\"Albacete\",\"85\")       # se crea dos objetos persona\n",
        "persona2 = Persona(\"Rosa\",\"44\",\"dentista\",\"175\",\"Segovia\",\"65\")\n",
        "\n",
        "print(persona1)\n",
        "print(persona2)\n"
      ],
      "metadata": {
        "colab": {
          "base_uri": "https://localhost:8080/"
        },
        "id": "_qe3Bc5NdEM2",
        "outputId": "b1d847bb-17e4-4a3e-a08c-7e8c9ac71532"
      },
      "id": "_qe3Bc5NdEM2",
      "execution_count": null,
      "outputs": [
        {
          "output_type": "stream",
          "name": "stdout",
          "text": [
            "Me llamo Juan, tengo 35 años y trabajo de fontanero en Albacete.\n",
            "Me llamo Rosa, tengo 44 años y trabajo de dentista en Segovia.\n"
          ]
        }
      ]
    },
    {
      "cell_type": "markdown",
      "id": "8bdb087c",
      "metadata": {
        "id": "8bdb087c"
      },
      "source": [
        "## Ejercicio 2.2. El objeto tarjeta de crédito\n",
        "* Crear la clase Tarjeta y dotarla de una serie de atributos y métodos. \n",
        "* Crear tres instancias\n",
        " - ordenarlas por su límite de crédito\n",
        " - verificar si han llegado o no a su límite de crédito  \n",
        "* Algunos de los atributos creados serán de clase y otros serán atributos de instancia.\n",
        "* Procurar que los atributos sean privados."
      ]
    },
    {
      "cell_type": "code",
      "source": [
        "class TarjetaCredito:\n",
        "    def __init__(self, nombre, apellidos, numero, entidad, limite, activo):   # método contructor con los atributos de instancia\n",
        "        self.__nombre = nombre                                                # atributo que pretende ser privado            \n",
        "        self.__apellidos = apellidos                                          # atributo que pretende ser privado\n",
        "        self.__numero = numero                                                # atributo que pretende ser privado\n",
        "        self.__entidad = entidad                                              # atributo que pretende ser privado\n",
        "        self.__limite = limite                                                # atributo que pretende ser privado\n",
        "        self.__activo = activo                                                # atributo que pretende ser privado\n",
        "        self.__pagos = []                                                     # atributo que pretende ser privado, se crea una lista vacía para cada tarjeta\n",
        "        self.moneda = \"€\"                                                     # atributo de clase\n",
        "        self.material = \"plástico\"                                            # atributo de clase\n",
        "\n",
        "    def pagar(self, importe):                                      # método que crea una lista con los pagos realizados\n",
        "      self.__pagos.append(importe)                                 # e informa si ya se ha superado el límite de crédito\n",
        "      if sum(self.__pagos) >= self.__limite:\n",
        "        print(\"No hay suficiente crédito para realizar el pago.\")\n",
        "    \n",
        "    def estado(self):                                              # método que informa si la tarjeta está activada o anulada\n",
        "      if self.__activo:\n",
        "        print(\"La tarjeta está activada.\")\n",
        "      else:\n",
        "        print(\"La tarjeta ha sido anulada.\")\n",
        "        \n",
        "    def creditopositivo(self):                                     # método que comprueba si se ha llegado al límite de crédito de la tarjeta\n",
        "      if sum(self.__pagos) >= self.__limite:\n",
        "        print(\"Ha llegado al límite de crédito de su tarjeta.\")\n",
        "    \n",
        "    def ordena(self, *tarjetas):                                   # método que ordena según el límite de crédito de la tarjeta\n",
        "      lista_nombre = [self.__nombre]\n",
        "      lista_limite = [self.__limite]\n",
        "      for tarjeta in tarjetas:\n",
        "        lista_nombre.append(tarjeta.__nombre)\n",
        "        lista_limite.append(tarjeta.__limite)\n",
        "      d = dict(zip(lista_nombre, lista_limite))\n",
        "      lista = sorted(d.items(), key = lambda x: x[1], reverse = True)\n",
        "      for i in lista:\n",
        "        print(i[0],\"\\t\", i[1])\n",
        "                                                                                                # instanciamos tres tarjetas de crédito\n",
        "TC1 = TarjetaCredito (\"Jose\", \"Pérez Martínez\", \"0435 5689 4217 7625\", \"Banco Santander\", 6000, True) \n",
        "TC2 = TarjetaCredito (\"Isabel\", \"Ruíz Fernández\", \"2143 0863 5514 7982\", \"BBVA\", 4500, True)\n",
        "TC3 = TarjetaCredito (\"Sandra\", \"Martín González\", \"4522 6789 2143 7746\", \"Banco Sabadell\", 5000, False)\n",
        "\n",
        "print(\"{:>14}\".format(\"RANKING\"))                                   \n",
        "print(\"=\"*20)\n",
        "\n",
        "TC1.ordena(TC2, TC3)\n",
        "\n",
        "print()\n",
        "\n",
        "#TC1._TarjetaCredito__limite\n",
        "#TC3._TarjetaCredito__activo\n",
        "#TC2.estado()\n",
        "#TC3.estado()\n",
        "#TC1._TarjetaCredito__pagos\n",
        "#TC1.pagar(500)\n",
        "#TC1.pagar(1500)\n",
        "#TC1.pagar(2500)\n",
        "#TC1.pagar(2000)\n",
        "#TC1._TarjetaCredito__pagos\n",
        "#TC1.creditopositivo()"
      ],
      "metadata": {
        "colab": {
          "base_uri": "https://localhost:8080/"
        },
        "id": "rqtt11rdggQs",
        "outputId": "e85f464b-2949-47b7-876a-0735cad6ad53"
      },
      "id": "rqtt11rdggQs",
      "execution_count": null,
      "outputs": [
        {
          "output_type": "stream",
          "name": "stdout",
          "text": [
            "       RANKING\n",
            "====================\n",
            "Jose \t 6000\n",
            "Sandra \t 5000\n",
            "Isabel \t 4500\n",
            "\n"
          ]
        }
      ]
    },
    {
      "cell_type": "markdown",
      "id": "43de316c",
      "metadata": {
        "id": "43de316c"
      },
      "source": [
        "## Ejercicio 2.3. Objetos geométricos\n",
        "* Crear la clase **Rectángulo** con los atributos ancho, largo.\n",
        " - Incluir en el método **constructor** los argumentos ancho y largo.\n",
        " - Crear un método para calcular el **área** del rectángulo y otro para calcular su **perímetro**.\n",
        "* Crear la clase **Circulo**.\n",
        " - Incluir en el método **constructor** el argumento **radio**.\n",
        " - Crear un método para calcular el **área** del círculo y otro para calcular su **perímetro**.\n",
        " - Para usar **PI** utilice ```math.pi```\n",
        "* Crear dos objetos del tipo rectángulo y otros dos objetos del tipo circulo\n",
        " - proporcione valores aleatorios a sus parámetros\n",
        " - calcule sus superficies y perímetros redondeando a dos decimales"
      ]
    },
    {
      "cell_type": "code",
      "source": [
        "import math\n",
        "import random\n",
        "\n",
        "class Rectangulo:                              # se crea la clase rectángulo\n",
        "    def __init__(self, ancho, largo):          # con atributos ancho y largo\n",
        "        self.ancho = ancho\n",
        "        self.largo = largo\n",
        "    \n",
        "    def area_rectangulo(self):                 # método cálculo área rectángulo\n",
        "        return self.ancho * self.largo\n",
        "    \n",
        "    def perimetro_rectangulo(self):            # método cálculo perímetro rectángulo\n",
        "        return 2*(self.ancho + self.largo)\n",
        "\n",
        "class Circulo:                                # se crea la clase círculo con \n",
        "    def __init__(self, radio):                # el atributo radio\n",
        "        self.radio = radio\n",
        "        \n",
        "    def area_circulo(self):                   # método cálculo área circulo\n",
        "        return math.pi*self.radio**2\n",
        "\n",
        "    def perimetro_circulo(self):              # método cálculo perímetro círculo\n",
        "        return 2*math.pi*self.radio\n",
        "                                              # se crea dos objetos tipo rectángulo con valores aleatorios para sus atributos\n",
        "r1 = Rectangulo (random.randint(0,1000),random.randint(0,1000))   \n",
        "r2 = Rectangulo (random.randint(0,1000),random.randint(0,1000))  \n",
        "                                              # se crea dos objetos tipo círculo con valores aleatorios para sus atributos\n",
        "c1 = Circulo (random.randint(0,1000))\n",
        "c2 = Circulo (random.randint(0,1000))\n",
        "                                              # se imprimen los resultados    \n",
        "print(\"Área del primer rectángulo:\", round(r1.area_rectangulo(),2))\n",
        "print(\"Perímetro del primer rectángulo:\", round(r1.perimetro_rectangulo(),2))\n",
        "print()\n",
        "print(\"Área del segundo rectángulo:\", round(r2.area_rectangulo(),2))\n",
        "print(\"Perímetro del segundo rectángulo:\", round(r2.perimetro_rectangulo(),2))\n",
        "print()\n",
        "print(\"Área del primer círculo:\", round(c1.area_circulo(),2))\n",
        "print(\"Perímetro del primer círculo:\", round(c1.perimetro_circulo(),2))\n",
        "print()\n",
        "print(\"Área del segundo círculo:\", round(c2.area_circulo(),2))\n",
        "print(\"Perímetro del segundo círculo:\", round(c2.perimetro_circulo(),2))"
      ],
      "metadata": {
        "colab": {
          "base_uri": "https://localhost:8080/"
        },
        "id": "2eT6F7heI5A-",
        "outputId": "7f81704f-b405-43b0-9f25-c0e8ecbb5f35"
      },
      "id": "2eT6F7heI5A-",
      "execution_count": null,
      "outputs": [
        {
          "output_type": "stream",
          "name": "stdout",
          "text": [
            "Área del primer rectángulo: 174232\n",
            "Perímetro del primer rectángulo: 1966\n",
            "\n",
            "Área del segundo rectángulo: 157600\n",
            "Perímetro del segundo rectángulo: 1588\n",
            "\n",
            "Área del primer círculo: 132025.43\n",
            "Perímetro del primer círculo: 1288.05\n",
            "\n",
            "Área del segundo círculo: 1500050.8\n",
            "Perímetro del segundo círculo: 4341.68\n"
          ]
        }
      ]
    },
    {
      "cell_type": "markdown",
      "id": "3a83c955",
      "metadata": {
        "id": "3a83c955"
      },
      "source": [
        "## Ejercicio 2.4. Coordenadas cartesianas\n",
        "* Cree una clase llamada **Punto** con sus dos coordenadas X e Y.\n",
        " - Implemente el método **constructor** para crear puntos fácilmente. Si no se recibe una coordenada, su valor será cero.\n",
        " - Sobrescriba el método **string** ```__str__```, para que al imprimir por pantalla un punto aparezca en formato (X,Y)\n",
        " - Implemente el método **cuadrante** que indicará a qué cuadrante pertenece el punto, o si es el origen.\n",
        " - Implemente el método **vector**, que toma otro punto y calcula el vector resultante entre los dos puntos.\n",
        " - Implemente el método **distancia**, que toma otro punto y calcule la distancia entre ambos puntos.\n",
        "* Cree una clase llamada **Rectangulo** con dos puntos (inicial y final) que formarán la diagonal del rectángulo.\n",
        " - Implemente el método **constructor** para crear ambos puntos fácilmente, si no se reciben, por defecto, se crearán dos puntos en el origen.\n",
        " - Implemente el método **base** que muestre la base.\n",
        " - Implemente el método **altura** que muestre la altura.\n",
        " - Implemente el método **area** que muestre el área.\n",
        "* Instancie los puntos A(3, 4),  B(-6,6), C(-2, -1) y D(0,0) y muéstrelos en pantalla.\n",
        "* Consulte a que cuadrante pertenecen los puntos A, C y D.\n",
        "* Muestre los vectores AB y BA.\n",
        "* Calcule la distancia entre los puntos 'A y B' y 'B y A'. \n",
        "* Determine cuál de los 3 puntos A, B o C, se encuentra más alejado del origen. \n",
        "* Cree un rectángulo utilizando los puntos A y B.\n",
        "* Muestre la base, altura y área del rectángulo."
      ]
    },
    {
      "cell_type": "code",
      "source": [
        "import math\n",
        "\n",
        "class Punto:                          # se crea la clase punto con sus 2 coordenadas\n",
        "  def __init__(self, x=0, y=0):\n",
        "    self.x = x\n",
        "    self.y = y\n",
        "\n",
        "  def __str__(self):                    # método string para imprimir el punto\n",
        "    return f\"({self.x},{self.y})\"\n",
        "                                        # método cuadrante\n",
        "  def cuadrante(self):\n",
        "    if self.x > 0 and self.y > 0: return \"primer cuadrante.\"\n",
        "    elif self.x < 0 and self.y > 0: return \"segundo cuadrante.\"\n",
        "    elif self.x < 0 and self.y < 0: return \"tercer cuadrante.\"\n",
        "    elif self.x > 0 and self.y < 0: return \"cuarto cuadrante.\"\n",
        "    else: return \"origen.\"                                                 \n",
        "                                        # método vector\n",
        "  def vector(self,z):\n",
        "    return f\"El vector entre {self} y {z} es ({z.x-self.x},{z.y-self.y})\"\n",
        "        \n",
        "                                        # método distancia\n",
        "  def distancia(self,z):\n",
        "    return f\"La distancia entre {self} y {z} es {math.sqrt((z.x-self.x)**2+(z.y-self.y)**2)}\"\n",
        "\n",
        "class Rectangulo:\n",
        "  def __init__(self, inicial=Punto(), final=Punto()):\n",
        "    self.i = inicial\n",
        "    self.f = final\n",
        "\n",
        "  def base_rectangulo(self):                 # método cálculo base rectángulo\n",
        "    return abs(self.f.x - self.i.x)\n",
        "    \n",
        "  def altura_rectangulo(self):               # método cálculo altura rectángulo\n",
        "    return abs(self.f.y - self.i.y)\n",
        "\n",
        "  def area_rectangulo(self):                 # método cálculo área rectángulo\n",
        "    return abs(self.f.x - self.i.x)*abs(self.f.y - self.i.y)\n",
        "\n",
        "                                             # se instancian los 4 puntos indicados\n",
        "A = Punto(3,4)\n",
        "B = Punto(-6,6)\n",
        "C= Punto(-2,-1)\n",
        "D = Punto(0,0)\n",
        "                                             # se muestran los puntos\n",
        "print(\"Punto A:\", A)\n",
        "print(\"Punto B:\", B)\n",
        "print(\"Punto C:\", C)\n",
        "print(\"Punto D:\", D)\n",
        "print()                                      # cuadrante de los puntos indicados\n",
        "print(f\"Punto A: ({A.x},{A.y}) está en el {A.cuadrante()}\")\n",
        "print(f\"Punto C: ({C.x},{C.y}) está en el {C.cuadrante()}\")\n",
        "print(f\"Punto D: ({D.x},{D.y}) está en el {D.cuadrante()}\")\n",
        "print()                                      # vectores indicados\n",
        "print(A.vector(B))\n",
        "print(B.vector(A))\n",
        "print()                                      # distancia entre puntos indicados\n",
        "print(A.distancia(B))\n",
        "print(B.distancia(A))\n",
        "print()                                      # distancia respecto al origen de los puntos indicados\n",
        "print(A.distancia(D))\n",
        "print(B.distancia(D))\n",
        "print(C.distancia(D))\n",
        "print()\n",
        "print(\"El punto B es el punto más alejado del origen de los tres puntos indicados.\")\n",
        "print()                                      # se crea un rectángulo con los puntos indicados\n",
        "R = Rectangulo(A,B)\n",
        "print(f\"La base del rectángulo R es igual a {R.base_rectangulo()}.\")          # base del rectángulo\n",
        "print(f\"La altura del rectángulo R es igual a {R.altura_rectangulo()}.\")      # altura del rectángulo\n",
        "print(f\"El área del rectángulo R es igual a {R.area_rectangulo()}.\")          # área del rectángulo\n"
      ],
      "metadata": {
        "id": "tJNEEqARU_pS",
        "outputId": "e805e052-49a4-48bb-f059-699aca8dbace",
        "colab": {
          "base_uri": "https://localhost:8080/"
        }
      },
      "id": "tJNEEqARU_pS",
      "execution_count": 26,
      "outputs": [
        {
          "output_type": "stream",
          "name": "stdout",
          "text": [
            "Punto A: (3,4)\n",
            "Punto B: (-6,6)\n",
            "Punto C: (-2,-1)\n",
            "Punto D: (0,0)\n",
            "\n",
            "Punto A: (3,4) está en el primer cuadrante.\n",
            "Punto C: (-2,-1) está en el tercer cuadrante.\n",
            "Punto D: (0,0) está en el origen.\n",
            "\n",
            "El vector entre (3,4) y (-6,6) es (-9,2)\n",
            "El vector entre (-6,6) y (3,4) es (9,-2)\n",
            "\n",
            "La distancia entre (3,4) y (-6,6) es 9.219544457292887\n",
            "La distancia entre (-6,6) y (3,4) es 9.219544457292887\n",
            "\n",
            "La distancia entre (3,4) y (0,0) es 5.0\n",
            "La distancia entre (-6,6) y (0,0) es 8.48528137423857\n",
            "La distancia entre (-2,-1) y (0,0) es 2.23606797749979\n",
            "\n",
            "El punto B es el punto más alejado del origen de los tres puntos indicados.\n",
            "\n",
            "La base del rectángulo R es igual a 9.\n",
            "La altura del rectángulo R es igual a 2.\n",
            "El área del rectángulo R es igual a 18.\n"
          ]
        }
      ]
    },
    {
      "cell_type": "markdown",
      "id": "c9031a0c",
      "metadata": {
        "id": "c9031a0c"
      },
      "source": [
        "## Ejercicio 2.5. Importar un módulo que trabaja con matrices\n",
        "* Inicializar el generador de números aleatorios con ```random.seed()```\n",
        "* Crear dos funciones:\n",
        " - Función 1. Genera una matriz de dimensión n × m donde, por defecto, las filas son n=3 y las columnas son m=4. Los elementos de la matriz contendrán números aleatorios entre 1 y 9. La función retorna la matriz generada.\n",
        " - Función 2. Tomar la matriz anterior y sustituir los valores pares por 1 y los impares por 0. La función retorna la matriz de ceros y unos generada. \n",
        "*Al ejecutar el procedimiento principal:\n",
        " - Mostrar la matriz generada por la función 1.\n",
        " - Mostrar la matriz generada por la función 2.\n",
        "* Usar el condicional ```if __name__ == \"__main__\"``` que permite convertir el archivo .py en un **módulo** que se pueda importar desde otros archivos y así poder usar las funciones creadas como si se tratara de una librería.\n",
        "\n",
        "![matriz_01.png](https://github.com/financieras/pyCourse/blob/main/jupyter/img/matriz_01.png?raw=1)"
      ]
    },
    {
      "cell_type": "code",
      "source": [
        "import random\n",
        "random.seed()\n",
        "\n",
        "def genera():                                                          # se crea matriz indicada de 3x4\n",
        "  matriz = [[random.randint(1,9) for j in range(4)]for i in range(3)]  # asignamos un aleatorio a cada elemento\n",
        "  return matriz\n",
        "\n",
        "def sustituir(x):\n",
        "  for i in range (3):\n",
        "   for j in range (4):\n",
        "    if x[i][j] % 2 == 0: x[i][j] = 1\n",
        "    else:\n",
        "        x[i][j] = 0\n",
        "  return x\n",
        "\n",
        "x = genera()\n",
        "\n",
        "if __name__ == \"__main__\":                # creamos un procedimiento principal aislado de la función\n",
        "    print(genera())\n",
        "    print(sustituir(x))"
      ],
      "metadata": {
        "colab": {
          "base_uri": "https://localhost:8080/"
        },
        "id": "7P-M9jU10VYm",
        "outputId": "a8106976-5624-4e52-e102-a68348f81806"
      },
      "id": "7P-M9jU10VYm",
      "execution_count": 140,
      "outputs": [
        {
          "output_type": "stream",
          "name": "stdout",
          "text": [
            "[[4, 2, 7, 3], [8, 9, 6, 4], [8, 5, 8, 8]]\n",
            "[[1, 1, 0, 1], [0, 0, 1, 1], [1, 0, 0, 0]]\n"
          ]
        }
      ]
    },
    {
      "cell_type": "markdown",
      "id": "3ceeeced",
      "metadata": {
        "id": "3ceeeced"
      },
      "source": [
        "## Ejercicio 2.6. Hacer ceros en una matriz\n",
        "Usando programación orientada a objetos.  \n",
        "Generar y mostrar una matriz inicial de ceros y unos distribuidos aleatoriamente.\n",
        "* Los atributos son las filas (por defecto 5), columnas (por defecto 5) y probabilidad (por defecto, 0.1).\n",
        "* La probabilidad, en tanto por uno, es la probabilidad de que un elemento de la matriz inicial sea cero.\n",
        "* La matriz de salida se obtiene convirtiendo  en ceros toda la fila y columna donde se encuentre un cero en la matriz inicial.\n",
        "\n",
        "**Ejemplo**  \n",
        "Matriz inicial: [[1, 1, 1, 1, 1, 1], [1, 1, 0, 1, 1, 1], [1, 1, 1, 1, 1, 1], [1, 1, 0, 1, 1, 1], [1, 0, 1, 1, 1, 1], [1, 1, 1, 1, 1, 1]]  \n",
        "Matriz final: &nbsp;&nbsp;[[1, 0, 0, 1, 1, 1], [0, 0, 0, 0, 0, 0], [1, 0, 0, 1, 1, 1], [0, 0, 0, 0, 0, 0], [0, 0, 0, 0, 0, 0], [1, 0, 0, 1, 1, 1]]\n",
        "\n",
        "<img src=\"https://github.com/financieras/pyCourse/blob/main/jupyter/img/zeroes.png?raw=1\" width=\"600\">"
      ]
    },
    {
      "cell_type": "code",
      "source": [
        "\n",
        "import random\n",
        "random.seed()\n",
        "\n",
        "class Matriz:                                         # se cre la clase matriz\n",
        "  def __init__(self,m=5,n=5,prob=0.1):                # con los atributos indicados\n",
        "    self.m = m\n",
        "    self.n = n\n",
        "    self.prob = prob\n",
        "\n",
        "  def generar(self):                                  # se crea el método generar\n",
        "    ceros_unos=[]                                     # para generar una matriz de unos y \n",
        "    for i in range (self.m):                          # ceros según se indica\n",
        "      ceros_unos.append([])\n",
        "      for j in range (self.n):\n",
        "        a = random.random()  \n",
        "        if a >= self.prob: \n",
        "          ceros_unos[i].append(1)\n",
        "        else:\n",
        "          ceros_unos[i].append(0)\n",
        "    return ceros_unos\n",
        "\n",
        "s=Matriz()\n",
        "inicial = s.generar()\n",
        "print(f\"Matriz inicial: {inicial}\")\n",
        "\n",
        "\n"
      ],
      "metadata": {
        "colab": {
          "base_uri": "https://localhost:8080/"
        },
        "id": "dNatFOIYDENi",
        "outputId": "c1007c17-0aab-486b-aa87-1691a9c5c204"
      },
      "id": "dNatFOIYDENi",
      "execution_count": 150,
      "outputs": [
        {
          "output_type": "stream",
          "name": "stdout",
          "text": [
            "Matriz inicial: [[1, 1, 0, 1, 1], [0, 1, 1, 1, 1], [1, 1, 1, 1, 1], [1, 1, 1, 1, 1], [0, 1, 1, 1, 1]]\n"
          ]
        }
      ]
    },
    {
      "cell_type": "markdown",
      "id": "030b3ac8",
      "metadata": {
        "id": "030b3ac8"
      },
      "source": [
        "## Ejercicio 2.7. POO\n",
        "Utilizando programación orientada a objetos cree un caso de su elección. Explique con detalle lo que se pretende desarrollar y añada suficientes comentarios del programador para dotar el código de las explicaciones necesarias.\n",
        "* ¿Ha creado un constructor?\n",
        "* ¿Ha instanciado algunos objetos?\n",
        "* ¿Los objetos han cambiado algunos atributos?\n",
        "* ¿Se han ejecutado algunos métodos?\n"
      ]
    }
  ],
  "metadata": {
    "kernelspec": {
      "display_name": "Python 3 (ipykernel)",
      "language": "python",
      "name": "python3"
    },
    "language_info": {
      "codemirror_mode": {
        "name": "ipython",
        "version": 3
      },
      "file_extension": ".py",
      "mimetype": "text/x-python",
      "name": "python",
      "nbconvert_exporter": "python",
      "pygments_lexer": "ipython3",
      "version": "3.8.11"
    },
    "colab": {
      "name": "practica2.ipynb",
      "provenance": [],
      "include_colab_link": true
    }
  },
  "nbformat": 4,
  "nbformat_minor": 5
}